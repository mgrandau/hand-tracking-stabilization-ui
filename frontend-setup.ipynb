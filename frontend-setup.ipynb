{
 "cells": [
  {
   "cell_type": "markdown",
   "metadata": {},
   "source": [
    "# Frontend Application interface to the Stabilization Models\n",
    "\n",
    "At some point this could be converted to AWS CloudFormation but at this point understanding the infrastructure at a basic AWS SDK point is highly disirable.\n"
   ]
  },
  {
   "cell_type": "markdown",
   "metadata": {},
   "source": [
    "## Frontend Setup\n"
   ]
  },
  {
   "cell_type": "markdown",
   "metadata": {},
   "source": [
    "Setup the buckets associated with the application.  All the files exist either as code stored in the [project repository](https://github.com/mgrandau/hand-tracking-stabilization) or data files in the [application bucket](s3://mgrandau-springboard-capstone/frontend-application/)"
   ]
  },
  {
   "cell_type": "markdown",
   "metadata": {},
   "source": [
    "Attempting to do the front end as a JAM Stack application. This will use the application to maintain current state of the application. Node.js is pre installed run the following commandlines\n",
    "\n",
    "```bash\n",
    "node -v\n",
    "npm -v\n",
    "```"
   ]
  },
  {
   "cell_type": "code",
   "execution_count": 1,
   "metadata": {},
   "outputs": [],
   "source": [
    "import logging\n",
    "import boto3\n",
    "from botocore.exceptions import ClientError\n",
    "\n",
    "def create_bucket(bucket_name, region='us-west-2'):\n",
    "    try:\n",
    "        s3_client = boto3.client('s3', region_name=region)\n",
    "        location = {'LocationConstraint': region}\n",
    "        s3_client.create_bucket(Bucket=bucket_name, CreateBucketConfiguration=location)\n",
    "\n",
    "    except ClientError as e:\n",
    "        logging.error(e)\n",
    "        return False\n",
    "    return True"
   ]
  },
  {
   "cell_type": "code",
   "execution_count": 6,
   "metadata": {},
   "outputs": [
    {
     "data": {
      "text/plain": [
       "True"
      ]
     },
     "execution_count": 6,
     "metadata": {},
     "output_type": "execute_result"
    }
   ],
   "source": [
    "create_bucket(\"mgrandau-springboard-capstone-app\")"
   ]
  },
  {
   "cell_type": "markdown",
   "metadata": {},
   "source": [
    "Load the application files."
   ]
  },
  {
   "cell_type": "code",
   "execution_count": 7,
   "metadata": {},
   "outputs": [],
   "source": [
    "s3 = boto3.resource('s3')\n",
    "\n",
    "def copy_to_application(filename):\n",
    "    copy_source = {\n",
    "        'Bucket': 'mgrandau-springboard-capstone',\n",
    "        'Key': f'frontend-application/{filename}'\n",
    "    }\n",
    "    s3.meta.client.copy(copy_source, 'mgrandau-springboard-capstone-app', filename)\n",
    "    object_acl = s3.ObjectAcl('mgrandau-springboard-capstone-app',filename)\n",
    "    response = object_acl.put(ACL='public-read')\n",
    "        \n",
    "copy_to_application('index.html')\n",
    "copy_to_application('stable.mp4')\n",
    "copy_to_application('unstable.mp4')\n"
   ]
  },
  {
   "cell_type": "markdown",
   "metadata": {},
   "source": [
    "This is the [photoExample](https://mgrandau-springboard-capstone-app.s3.us-west-2.amazonaws.com/photoExample.html)"
   ]
  },
  {
   "cell_type": "markdown",
   "metadata": {},
   "source": [
    "## Frontend Teardown"
   ]
  },
  {
   "cell_type": "markdown",
   "metadata": {},
   "source": [
    "Cleanup the application buckets"
   ]
  },
  {
   "cell_type": "code",
   "execution_count": 4,
   "metadata": {},
   "outputs": [],
   "source": [
    "def delete_bucket(bucket_name):\n",
    "    try:\n",
    "        import boto3\n",
    "\n",
    "        s3_client = boto3.resource('s3')\n",
    "        bucket = s3_client.Bucket(bucket_name)\n",
    "        bucket.objects.all().delete()\n",
    "        bucket.delete()\n",
    "        \n",
    "    except ClientError as e:\n",
    "        logging.error(e)\n",
    "        return False\n",
    "    return True"
   ]
  },
  {
   "cell_type": "code",
   "execution_count": 5,
   "metadata": {},
   "outputs": [
    {
     "data": {
      "text/plain": [
       "True"
      ]
     },
     "execution_count": 5,
     "metadata": {},
     "output_type": "execute_result"
    }
   ],
   "source": [
    "delete_bucket(\"mgrandau-springboard-capstone-app\")"
   ]
  }
 ],
 "metadata": {
  "instance_type": "ml.t3.medium",
  "kernelspec": {
   "display_name": "Python 3 (Data Science)",
   "language": "python",
   "name": "python3__SAGEMAKER_INTERNAL__arn:aws:sagemaker:us-west-2:236514542706:image/datascience-1.0"
  },
  "language_info": {
   "codemirror_mode": {
    "name": "ipython",
    "version": 3
   },
   "file_extension": ".py",
   "mimetype": "text/x-python",
   "name": "python",
   "nbconvert_exporter": "python",
   "pygments_lexer": "ipython3",
   "version": "3.7.10"
  }
 },
 "nbformat": 4,
 "nbformat_minor": 4
}
